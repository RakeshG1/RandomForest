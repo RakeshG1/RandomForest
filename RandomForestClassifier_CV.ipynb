{
 "cells": [
  {
   "cell_type": "markdown",
   "metadata": {},
   "source": [
    "### Importing Libraries"
   ]
  },
  {
   "cell_type": "code",
   "execution_count": 59,
   "metadata": {},
   "outputs": [],
   "source": [
    "import pandas as pd\n",
    "import numpy as np\n",
    "import os\n",
    "import matplotlib.pyplot as plt\n",
    "from sklearn.ensemble import RandomForestClassifier\n",
    "from sklearn.tree import DecisionTreeClassifier, DecisionTreeRegressor, plot_tree, export_graphviz\n",
    "from sklearn.model_selection import train_test_split, GridSearchCV\n",
    "from sklearn import metrics\n",
    "from sklearn.metrics import roc_auc_score, roc_curve\n",
    "from IPython.display import Image  \n",
    "import pydotplus\n",
    "import warnings\n",
    "warnings.filterwarnings('ignore')"
   ]
  },
  {
   "cell_type": "code",
   "execution_count": 31,
   "metadata": {},
   "outputs": [
    {
     "name": "stdout",
     "output_type": "stream",
     "text": [
      "Collecting pydotplus\n",
      "\u001b[?25l  Downloading https://files.pythonhosted.org/packages/60/bf/62567830b700d9f6930e9ab6831d6ba256f7b0b730acb37278b0ccdffacf/pydotplus-2.0.2.tar.gz (278kB)\n",
      "\u001b[K     |████████████████████████████████| 286kB 1.4MB/s eta 0:00:01\n",
      "\u001b[?25hRequirement already satisfied: pyparsing>=2.0.1 in /opt/anaconda3/lib/python3.7/site-packages (from pydotplus) (2.4.2)\n",
      "Building wheels for collected packages: pydotplus\n",
      "  Building wheel for pydotplus (setup.py) ... \u001b[?25ldone\n",
      "\u001b[?25h  Created wheel for pydotplus: filename=pydotplus-2.0.2-cp37-none-any.whl size=24567 sha256=0225a6fe4089d4e5b54754ff970511d6452ca7582b860230918477a8dc2ac719\n",
      "  Stored in directory: /Users/rock/Library/Caches/pip/wheels/35/7b/ab/66fb7b2ac1f6df87475b09dc48e707b6e0de80a6d8444e3628\n",
      "Successfully built pydotplus\n",
      "Installing collected packages: pydotplus\n",
      "Successfully installed pydotplus-2.0.2\n"
     ]
    }
   ],
   "source": [
    "!pip install pydotplus"
   ]
  },
  {
   "cell_type": "code",
   "execution_count": 39,
   "metadata": {},
   "outputs": [
    {
     "name": "stdout",
     "output_type": "stream",
     "text": [
      "Collecting graphviz\n",
      "  Downloading https://files.pythonhosted.org/packages/f5/74/dbed754c0abd63768d3a7a7b472da35b08ac442cf87d73d5850a6f32391e/graphviz-0.13.2-py2.py3-none-any.whl\n",
      "Installing collected packages: graphviz\n",
      "Successfully installed graphviz-0.13.2\n"
     ]
    }
   ],
   "source": [
    "!pip install graphviz"
   ]
  },
  {
   "cell_type": "code",
   "execution_count": 46,
   "metadata": {},
   "outputs": [],
   "source": [
    "# Executed in Macos terminal\n",
    "# !conda install graphviz"
   ]
  },
  {
   "cell_type": "markdown",
   "metadata": {},
   "source": [
    "&nbsp;"
   ]
  },
  {
   "cell_type": "markdown",
   "metadata": {},
   "source": [
    "### Loading Dataset"
   ]
  },
  {
   "cell_type": "code",
   "execution_count": 4,
   "metadata": {},
   "outputs": [
    {
     "data": {
      "text/html": [
       "<div>\n",
       "<style scoped>\n",
       "    .dataframe tbody tr th:only-of-type {\n",
       "        vertical-align: middle;\n",
       "    }\n",
       "\n",
       "    .dataframe tbody tr th {\n",
       "        vertical-align: top;\n",
       "    }\n",
       "\n",
       "    .dataframe thead th {\n",
       "        text-align: right;\n",
       "    }\n",
       "</style>\n",
       "<table border=\"1\" class=\"dataframe\">\n",
       "  <thead>\n",
       "    <tr style=\"text-align: right;\">\n",
       "      <th></th>\n",
       "      <th>outlook</th>\n",
       "      <th>temp</th>\n",
       "      <th>humidity</th>\n",
       "      <th>windy</th>\n",
       "      <th>play</th>\n",
       "    </tr>\n",
       "  </thead>\n",
       "  <tbody>\n",
       "    <tr>\n",
       "      <td>0</td>\n",
       "      <td>sunny</td>\n",
       "      <td>hot</td>\n",
       "      <td>high</td>\n",
       "      <td>False</td>\n",
       "      <td>no</td>\n",
       "    </tr>\n",
       "    <tr>\n",
       "      <td>1</td>\n",
       "      <td>sunny</td>\n",
       "      <td>hot</td>\n",
       "      <td>high</td>\n",
       "      <td>True</td>\n",
       "      <td>no</td>\n",
       "    </tr>\n",
       "    <tr>\n",
       "      <td>2</td>\n",
       "      <td>overcast</td>\n",
       "      <td>hot</td>\n",
       "      <td>high</td>\n",
       "      <td>False</td>\n",
       "      <td>yes</td>\n",
       "    </tr>\n",
       "    <tr>\n",
       "      <td>3</td>\n",
       "      <td>rainy</td>\n",
       "      <td>mild</td>\n",
       "      <td>high</td>\n",
       "      <td>False</td>\n",
       "      <td>yes</td>\n",
       "    </tr>\n",
       "    <tr>\n",
       "      <td>4</td>\n",
       "      <td>rainy</td>\n",
       "      <td>cool</td>\n",
       "      <td>normal</td>\n",
       "      <td>False</td>\n",
       "      <td>yes</td>\n",
       "    </tr>\n",
       "  </tbody>\n",
       "</table>\n",
       "</div>"
      ],
      "text/plain": [
       "    outlook  temp humidity  windy play\n",
       "0     sunny   hot     high  False   no\n",
       "1     sunny   hot     high   True   no\n",
       "2  overcast   hot     high  False  yes\n",
       "3     rainy  mild     high  False  yes\n",
       "4     rainy  cool   normal  False  yes"
      ]
     },
     "execution_count": 4,
     "metadata": {},
     "output_type": "execute_result"
    }
   ],
   "source": [
    "filepath = os.getcwd() + \"/tennis.csv\"\n",
    "df = pd.read_csv(filepath)\n",
    "df.head()"
   ]
  },
  {
   "cell_type": "markdown",
   "metadata": {},
   "source": [
    "&nbsp;"
   ]
  },
  {
   "cell_type": "markdown",
   "metadata": {},
   "source": [
    "### Descriptive Analysis"
   ]
  },
  {
   "cell_type": "code",
   "execution_count": 5,
   "metadata": {},
   "outputs": [
    {
     "name": "stdout",
     "output_type": "stream",
     "text": [
      "<class 'pandas.core.frame.DataFrame'>\n",
      "RangeIndex: 14 entries, 0 to 13\n",
      "Data columns (total 5 columns):\n",
      "outlook     14 non-null object\n",
      "temp        14 non-null object\n",
      "humidity    14 non-null object\n",
      "windy       14 non-null bool\n",
      "play        14 non-null object\n",
      "dtypes: bool(1), object(4)\n",
      "memory usage: 590.0+ bytes\n",
      "None\n",
      "\n",
      "Missing values in given data :\n",
      "outlook     0\n",
      "temp        0\n",
      "humidity    0\n",
      "windy       0\n",
      "play        0\n",
      "dtype: int64\n"
     ]
    }
   ],
   "source": [
    "print(df.info())\n",
    "print('\\nMissing values in given data :')\n",
    "print(df.isnull().sum())"
   ]
  },
  {
   "cell_type": "markdown",
   "metadata": {},
   "source": [
    "&nbsp;"
   ]
  },
  {
   "cell_type": "markdown",
   "metadata": {},
   "source": [
    "### Dummy Variables Creation<span style='background:yellow'>(Instead of direct categorical variable, sklearn library works with encoded category variables to find Entropy and I.G for best splits)</span>"
   ]
  },
  {
   "cell_type": "code",
   "execution_count": 7,
   "metadata": {},
   "outputs": [
    {
     "data": {
      "text/html": [
       "<div>\n",
       "<style scoped>\n",
       "    .dataframe tbody tr th:only-of-type {\n",
       "        vertical-align: middle;\n",
       "    }\n",
       "\n",
       "    .dataframe tbody tr th {\n",
       "        vertical-align: top;\n",
       "    }\n",
       "\n",
       "    .dataframe thead th {\n",
       "        text-align: right;\n",
       "    }\n",
       "</style>\n",
       "<table border=\"1\" class=\"dataframe\">\n",
       "  <thead>\n",
       "    <tr style=\"text-align: right;\">\n",
       "      <th></th>\n",
       "      <th>play</th>\n",
       "      <th>outlook_overcast</th>\n",
       "      <th>outlook_rainy</th>\n",
       "      <th>outlook_sunny</th>\n",
       "      <th>temp_cool</th>\n",
       "      <th>temp_hot</th>\n",
       "      <th>temp_mild</th>\n",
       "      <th>humidity_high</th>\n",
       "      <th>humidity_normal</th>\n",
       "      <th>windy_False</th>\n",
       "      <th>windy_True</th>\n",
       "    </tr>\n",
       "  </thead>\n",
       "  <tbody>\n",
       "    <tr>\n",
       "      <td>0</td>\n",
       "      <td>no</td>\n",
       "      <td>0</td>\n",
       "      <td>0</td>\n",
       "      <td>1</td>\n",
       "      <td>0</td>\n",
       "      <td>1</td>\n",
       "      <td>0</td>\n",
       "      <td>1</td>\n",
       "      <td>0</td>\n",
       "      <td>1</td>\n",
       "      <td>0</td>\n",
       "    </tr>\n",
       "    <tr>\n",
       "      <td>1</td>\n",
       "      <td>no</td>\n",
       "      <td>0</td>\n",
       "      <td>0</td>\n",
       "      <td>1</td>\n",
       "      <td>0</td>\n",
       "      <td>1</td>\n",
       "      <td>0</td>\n",
       "      <td>1</td>\n",
       "      <td>0</td>\n",
       "      <td>0</td>\n",
       "      <td>1</td>\n",
       "    </tr>\n",
       "    <tr>\n",
       "      <td>2</td>\n",
       "      <td>yes</td>\n",
       "      <td>1</td>\n",
       "      <td>0</td>\n",
       "      <td>0</td>\n",
       "      <td>0</td>\n",
       "      <td>1</td>\n",
       "      <td>0</td>\n",
       "      <td>1</td>\n",
       "      <td>0</td>\n",
       "      <td>1</td>\n",
       "      <td>0</td>\n",
       "    </tr>\n",
       "    <tr>\n",
       "      <td>3</td>\n",
       "      <td>yes</td>\n",
       "      <td>0</td>\n",
       "      <td>1</td>\n",
       "      <td>0</td>\n",
       "      <td>0</td>\n",
       "      <td>0</td>\n",
       "      <td>1</td>\n",
       "      <td>1</td>\n",
       "      <td>0</td>\n",
       "      <td>1</td>\n",
       "      <td>0</td>\n",
       "    </tr>\n",
       "    <tr>\n",
       "      <td>4</td>\n",
       "      <td>yes</td>\n",
       "      <td>0</td>\n",
       "      <td>1</td>\n",
       "      <td>0</td>\n",
       "      <td>1</td>\n",
       "      <td>0</td>\n",
       "      <td>0</td>\n",
       "      <td>0</td>\n",
       "      <td>1</td>\n",
       "      <td>1</td>\n",
       "      <td>0</td>\n",
       "    </tr>\n",
       "  </tbody>\n",
       "</table>\n",
       "</div>"
      ],
      "text/plain": [
       "  play  outlook_overcast  outlook_rainy  outlook_sunny  temp_cool  temp_hot  \\\n",
       "0   no                 0              0              1          0         1   \n",
       "1   no                 0              0              1          0         1   \n",
       "2  yes                 1              0              0          0         1   \n",
       "3  yes                 0              1              0          0         0   \n",
       "4  yes                 0              1              0          1         0   \n",
       "\n",
       "   temp_mild  humidity_high  humidity_normal  windy_False  windy_True  \n",
       "0          0              1                0            1           0  \n",
       "1          0              1                0            0           1  \n",
       "2          0              1                0            1           0  \n",
       "3          1              1                0            1           0  \n",
       "4          0              0                1            1           0  "
      ]
     },
     "execution_count": 7,
     "metadata": {},
     "output_type": "execute_result"
    }
   ],
   "source": [
    "df_dummy = pd.get_dummies(data = df, columns=['outlook','temp','humidity','windy'])\n",
    "df_dummy.head()"
   ]
  },
  {
   "cell_type": "markdown",
   "metadata": {},
   "source": [
    "&nbsp;"
   ]
  },
  {
   "cell_type": "markdown",
   "metadata": {},
   "source": [
    "### Train & Test split"
   ]
  },
  {
   "cell_type": "code",
   "execution_count": 8,
   "metadata": {},
   "outputs": [],
   "source": [
    "X = df_dummy.drop(['play'],axis=1)\n",
    "y = df_dummy['play']\n",
    "\n",
    "X_train, X_test, y_train, y_test = train_test_split(X, y, test_size = 0.30, random_state = 101 )"
   ]
  },
  {
   "cell_type": "markdown",
   "metadata": {},
   "source": [
    "&nbsp;"
   ]
  },
  {
   "cell_type": "markdown",
   "metadata": {},
   "source": [
    "### Hyperparameters Optimization"
   ]
  },
  {
   "cell_type": "code",
   "execution_count": 16,
   "metadata": {},
   "outputs": [
    {
     "name": "stdout",
     "output_type": "stream",
     "text": [
      "Best paramters/estimators as per gridsearc cross validation. {'criterion': 'gini', 'max_depth': 3, 'max_features': 2, 'n_estimators': 19}\n",
      "Mean accuray as per best parameters : 0.8888888888888888\n",
      "\n"
     ]
    }
   ],
   "source": [
    "#Create dictionary of all values that we want to test\n",
    "param_grid = { \"criterion\" : ['entropy','gini'],\n",
    "               \"max_depth\" : np.arange(2,5),\n",
    "               \"max_features\" : np.arange(2,5),\n",
    "               #'max_features': ['auto', 'sqrt', 'log2']\n",
    "               \"n_estimators\" : np.arange(1,30)  #Number of decision trees\n",
    "             }\n",
    "\n",
    "#Random Forecast Classifier\n",
    "rtree_model = RandomForestClassifier()\n",
    "\n",
    "#Use gridsearch to test all possible parameters for best accuracy\n",
    "rtree_gscv = GridSearchCV(rtree_model, param_grid = param_grid, cv = 5)\n",
    "\n",
    "#Fit model to data\n",
    "rtree_gscv.fit(X_train, y_train)\n",
    "\n",
    "#GridSearch Results\n",
    "print(\"Best paramters/estimators as per gridsearc cross validation. {}\".format(rtree_gscv.best_params_))\n",
    "print('Mean accuray as per best parameters : {}\\n'.format(rtree_gscv.best_score_))\n",
    "\n",
    "#Below prints all the parameters combination and its kfolds mean accuracy  \n",
    "# print('GridSearch all parameters :')\n",
    "# print(rtree_gscv.cv_results_['params'],'\\n')\n",
    "# print('GridSearch all parameters kfolds mean accuracy:')\n",
    "# print(rtree_gscv.cv_results_['mean_test_score'])"
   ]
  },
  {
   "cell_type": "markdown",
   "metadata": {},
   "source": [
    "#### Key Note\n",
    "* n_estimators = number of trees in the foreset\n",
    "* max_features = max number of features considered for splitting a node(i.e., [ max_features ] is the size of the random subsets of features to consider when splitting a node. (or) column sampling )\n",
    "* max_depth = max number of levels in each decision tree\n",
    "* min_samples_split = min number of data points placed in a node before the node is split\n",
    "* min_samples_leaf = min number of data points allowed in a leaf node\n",
    "* bootstrap = method for sampling data points (with or without replacement)"
   ]
  },
  {
   "cell_type": "markdown",
   "metadata": {},
   "source": [
    "&nbsp;"
   ]
  },
  {
   "cell_type": "markdown",
   "metadata": {},
   "source": [
    "### Best Model Parameters as per Gridsearch_csv"
   ]
  },
  {
   "cell_type": "code",
   "execution_count": 17,
   "metadata": {},
   "outputs": [
    {
     "data": {
      "text/plain": [
       "RandomForestClassifier(bootstrap=True, class_weight=None, criterion='gini',\n",
       "                       max_depth=3, max_features=2, max_leaf_nodes=None,\n",
       "                       min_impurity_decrease=0.0, min_impurity_split=None,\n",
       "                       min_samples_leaf=1, min_samples_split=2,\n",
       "                       min_weight_fraction_leaf=0.0, n_estimators=19,\n",
       "                       n_jobs=None, oob_score=False, random_state=None,\n",
       "                       verbose=0, warm_start=False)"
      ]
     },
     "execution_count": 17,
     "metadata": {},
     "output_type": "execute_result"
    }
   ],
   "source": [
    "#Random Forecast Classifier\n",
    "\n",
    "rtree = RandomForestClassifier(criterion='gini', max_depth=3, max_features=2, n_estimators=19)\n",
    "rtree"
   ]
  },
  {
   "cell_type": "markdown",
   "metadata": {},
   "source": [
    "&nbsp;"
   ]
  },
  {
   "cell_type": "markdown",
   "metadata": {},
   "source": [
    "### Model Fit"
   ]
  },
  {
   "cell_type": "code",
   "execution_count": 49,
   "metadata": {},
   "outputs": [
    {
     "data": {
      "text/plain": [
       "RandomForestClassifier(bootstrap=True, class_weight=None, criterion='gini',\n",
       "                       max_depth=3, max_features=2, max_leaf_nodes=None,\n",
       "                       min_impurity_decrease=0.0, min_impurity_split=None,\n",
       "                       min_samples_leaf=1, min_samples_split=2,\n",
       "                       min_weight_fraction_leaf=0.0, n_estimators=19,\n",
       "                       n_jobs=None, oob_score=False, random_state=None,\n",
       "                       verbose=0, warm_start=False)"
      ]
     },
     "execution_count": 49,
     "metadata": {},
     "output_type": "execute_result"
    }
   ],
   "source": [
    "rtree.fit(X_train, y_train)"
   ]
  },
  {
   "cell_type": "markdown",
   "metadata": {},
   "source": [
    "&nbsp;"
   ]
  },
  {
   "cell_type": "markdown",
   "metadata": {},
   "source": [
    "### Trained Random Forest Tree Visualization"
   ]
  },
  {
   "cell_type": "markdown",
   "metadata": {},
   "source": [
    "#### Using export_graphviz, ploting 2nd decision tree out of 19 estimators(i.e., base decision trees)"
   ]
  },
  {
   "cell_type": "code",
   "execution_count": 51,
   "metadata": {},
   "outputs": [
    {
     "data": {
      "image/png": "[encoded data removed]",
      "text/plain": [
       "<IPython.core.display.Image object>"
      ]
     },
     "execution_count": 51,
     "metadata": {},
     "output_type": "execute_result"
    }
   ],
   "source": [
    "tree_count = 0\n",
    "for tree_in_random_forest in rtree.estimators_:\n",
    "    if (tree_count ==1):        \n",
    "        rfr_file = export_graphviz(tree_in_random_forest, out_file=None)\n",
    "        rfr_graph = pydotplus.graph_from_dot_data(rfr_file)        \n",
    "    tree_count = tree_count + 1\n",
    "Image(rfr_graph.create_png())"
   ]
  },
  {
   "cell_type": "markdown",
   "metadata": {},
   "source": [
    "&nbsp;"
   ]
  },
  {
   "cell_type": "markdown",
   "metadata": {},
   "source": [
    "#### Using plot_tree, ploting 2nd decision tree out of 19 estimators(i.e., base decision trees)"
   ]
  },
  {
   "cell_type": "code",
   "execution_count": 48,
   "metadata": {},
   "outputs": [
    {
     "data": {
      "image/png": "[encoded data removed]",
      "text/plain": [
       "<Figure size 720x576 with 1 Axes>"
      ]
     },
     "metadata": {
      "needs_background": "light"
     },
     "output_type": "display_data"
    }
   ],
   "source": [
    "fig = plt.figure(figsize=(10,8))\n",
    "a = plot_tree(rtree.estimators_[1], feature_names=X_train.columns, fontsize=12, filled=True, class_names=['Not Play', 'Play'])#Because in our data 1st class label is not play in resp. variable\n",
    "plt.show()"
   ]
  },
  {
   "cell_type": "markdown",
   "metadata": {},
   "source": [
    "#### Key Note\n",
    "* we can see how 2nd decision tree trained out of 19 decision trees in random forest based on our best hyper parameters.\n",
    "* Both graphs are perfectly same with nodes and splits."
   ]
  },
  {
   "cell_type": "markdown",
   "metadata": {},
   "source": [
    "&nbsp;"
   ]
  },
  {
   "cell_type": "markdown",
   "metadata": {},
   "source": [
    "### Model Performance"
   ]
  },
  {
   "cell_type": "code",
   "execution_count": 53,
   "metadata": {},
   "outputs": [
    {
     "name": "stdout",
     "output_type": "stream",
     "text": [
      "X_train sample counts : 9\n",
      "y_test sample counts : 5\n",
      "\n",
      "Misclassified samples: 0\n",
      "\n",
      "Confusion Matrix:\n",
      "[[1 0]\n",
      " [0 4]] \n",
      "\n",
      "The accuracy (TP+TN)/total : 1.000\n",
      "\n",
      "The sensitivity (TP/TP+FN) | TPR : 1.000\n",
      "\n",
      "The specificity (TN/TN+FP) : 1.000\n",
      "\n",
      "The 1-specificity (FP/TN+FP) | FPR : 0.000\n",
      "\n"
     ]
    }
   ],
   "source": [
    "print(\"X_train sample counts : {}\".format(len(X_train)))\n",
    "print(\"y_test sample counts : {}\\n\".format(len(X_test)))\n",
    "\n",
    "\n",
    "y_pred = rtree.predict(X_test)\n",
    "accuracy = metrics.accuracy_score(y_test, y_pred)\n",
    "count_misclassified = (y_test != y_pred).sum()\n",
    "print('Misclassified samples: {}\\n'.format(count_misclassified))\n",
    "\n",
    "confusion = metrics.confusion_matrix(y_test,y_pred)\n",
    "\n",
    "print('Confusion Matrix:')\n",
    "print(confusion,'\\n')\n",
    "sensitivity = confusion[1][1]/float(confusion[1:].sum())\n",
    "specificity = confusion[0][0]/float(confusion[:,0].sum())\n",
    "specificity_ = confusion[0][1]/float(confusion[:,0].sum()) \n",
    "print(\"The accuracy (TP+TN)/total : {0:.3f}\\n\".format(accuracy))\n",
    "print(\"The sensitivity (TP/TP+FN) | TPR : {0:.3f}\\n\".format(sensitivity))\n",
    "print(\"The specificity (TN/TN+FP) : {0:.3f}\\n\".format(specificity))\n",
    "print(\"The 1-specificity (FP/TN+FP) | FPR : {0:.3f}\\n\".format(specificity_))"
   ]
  },
  {
   "cell_type": "markdown",
   "metadata": {},
   "source": [
    "&nbsp;"
   ]
  },
  {
   "cell_type": "markdown",
   "metadata": {},
   "source": [
    "### Model Probabilities"
   ]
  },
  {
   "cell_type": "code",
   "execution_count": 54,
   "metadata": {},
   "outputs": [
    {
     "name": "stdout",
     "output_type": "stream",
     "text": [
      "Probabilities on y_test : [[0.2631578947368421, 0.7368421052631579], [0.42105263157894735, 0.5789473684210527], [0.3684210526315789, 0.631578947368421], [0.5263157894736842, 0.47368421052631576], [0.4473684210526316, 0.5526315789473685]]\n",
      "\n",
      "if pred. value is 'yes' then prob. is [0.0, 1.0], if pred. value is 'no' the prob. is [1.0, 0.0]\n",
      "\n",
      "Actual y_test value : ['yes', 'yes', 'yes', 'no', 'yes']\n",
      "\n",
      "Predictions on y_test : ['yes', 'yes', 'yes', 'no', 'yes']\n",
      "\n",
      "As AUC_ROC mainly of postive cases, we take postive case probablities : [0.73684211 0.57894737 0.63157895 0.47368421 0.55263158]\n",
      "\n"
     ]
    }
   ],
   "source": [
    "probs = rtree.predict_proba(X_test)\n",
    "print('Probabilities on y_test : {}\\n'.format(probs.tolist()))\n",
    "print('if pred. value is \\'yes\\' then prob. is [0.0, 1.0], if pred. value is \\'no\\' the prob. is [1.0, 0.0]\\n')\n",
    "print('Actual y_test value : {}\\n'.format(y_test.tolist()))\n",
    "print('Predictions on y_test : {}\\n'.format(y_pred.tolist()))\n",
    "probs = probs[:, 1]\n",
    "print('As AUC_ROC mainly of postive cases, we take postive case probablities : {}\\n'.format(probs))"
   ]
  },
  {
   "cell_type": "markdown",
   "metadata": {},
   "source": [
    "&nbsp;"
   ]
  },
  {
   "cell_type": "markdown",
   "metadata": {},
   "source": [
    "### AUC value(on y_test and y_pred postive probablities for calculating TPR and FPR)¶"
   ]
  },
  {
   "cell_type": "code",
   "execution_count": 57,
   "metadata": {},
   "outputs": [
    {
     "name": "stdout",
     "output_type": "stream",
     "text": [
      "AUC: 1.00\n"
     ]
    }
   ],
   "source": [
    "#Its calculating area under the roc curve\n",
    "auc = roc_auc_score(y_test, probs)\n",
    "print('AUC: %.2f' % auc)"
   ]
  },
  {
   "cell_type": "markdown",
   "metadata": {},
   "source": [
    "&nbsp;"
   ]
  },
  {
   "cell_type": "markdown",
   "metadata": {},
   "source": [
    "### Getting TPR,FPR calculated based on postive y_pred probablities and it selects few optimal thresholds for better curve"
   ]
  },
  {
   "cell_type": "code",
   "execution_count": 71,
   "metadata": {},
   "outputs": [
    {
     "name": "stdout",
     "output_type": "stream",
     "text": [
      "Actual y's : ['yes', 'yes', 'yes', 'no', 'yes']\n",
      "\n",
      "Actual y's converted into numeric : [1, 1, 1, 0, 1]\n",
      "\n",
      "Postive Probablities : [0.73684211 0.57894737 0.63157895 0.47368421 0.55263158]\n",
      "\n",
      "tpr, fpr : [0.   0.25 1.   1.  ], [0. 0. 0. 1.]\n",
      "\n",
      "Thresholds for ROC curve : [1.73684211 0.73684211 0.55263158 0.47368421]\n"
     ]
    }
   ],
   "source": [
    "y_test_1 = [1 if i == 'yes' else 0 for i in y_test]\n",
    "print(\"Actual y's : {}\\n\".format(y_test.tolist()))\n",
    "print(\"Actual y's converted into numeric : {}\\n\".format(y_test_1))\n",
    "print(\"Postive Probablities : {}\\n\".format(probs))\n",
    "fpr, tpr, thresholds = roc_curve(y_test_1, probs)\n",
    "print(\"tpr, fpr : {}, {}\\n\".format(tpr,fpr))\n",
    "print(\"Thresholds for ROC curve : {}\".format(thresholds))"
   ]
  },
  {
   "cell_type": "markdown",
   "metadata": {},
   "source": [
    "#### Key Note:\n",
    "* We can see here threshold 1st value 1.73684 which is highest where both tpr & fpr gets 0.\n",
    "* At threshold last value 0.47368 where both tpr and fpr get 1.\n",
    "* & at 0.7368 & 0.5526 threshold values, our roc curve checks tpr and fpr values.\n",
    "* On a whole, roc curve makes thresholds cleverly according to our y_pred_postive_probabilities and then see tpr and fpr doing properly or not(orange line) better than random model.i.e., blue line.\n",
    "* Based on postive probabilities ROC checking whether model gives proper TPR and FPR."
   ]
  },
  {
   "cell_type": "markdown",
   "metadata": {},
   "source": [
    "&nbsp;"
   ]
  },
  {
   "cell_type": "markdown",
   "metadata": {},
   "source": [
    "### Visualizing ROC curve"
   ]
  },
  {
   "cell_type": "code",
   "execution_count": 61,
   "metadata": {},
   "outputs": [
    {
     "data": {
      "image/png": "[encoded data removed]",
      "text/plain": [
       "<Figure size 432x288 with 1 Axes>"
      ]
     },
     "metadata": {
      "needs_background": "light"
     },
     "output_type": "display_data"
    }
   ],
   "source": [
    "def plot_roc_curve(fpr, tpr):\n",
    "    plt.plot(fpr, tpr, color='orange', label='ROC')\n",
    "    plt.plot([0, 1], [0, 1], color='darkblue', linestyle='--')\n",
    "    plt.xlabel('False Positive Rate')\n",
    "    plt.ylabel('True Positive Rate')\n",
    "    plt.title('Receiver Operating Characteristic (ROC) Curve')\n",
    "    plt.legend()\n",
    "    plt.show()\n",
    "    \n",
    "plot_roc_curve(fpr, tpr)"
   ]
  },
  {
   "cell_type": "markdown",
   "metadata": {},
   "source": [
    "### Take Away Points :\n",
    "* From this we can say all cases in X_test data are properly classified, having TPR = 1 and FPR = 0.\n",
    "* This is due to row_sampling, column_smapling (i.e.,bootstrap sampling) and aggregation from random_forest.\n",
    "* But perfect AUC=1 and perfect classification can be chance of overfit even in random forest, it gives wrong classification if differet test case comes in future to get classified.\n",
    "* It always better train model on huge data as much as possible."
   ]
  }
 ],
 "metadata": {
  "kernelspec": {
   "display_name": "Python 3",
   "language": "python",
   "name": "python3"
  },
  "language_info": {
   "codemirror_mode": {
    "name": "ipython",
    "version": 3
   },
   "file_extension": ".py",
   "mimetype": "text/x-python",
   "name": "python",
   "nbconvert_exporter": "python",
   "pygments_lexer": "ipython3",
   "version": "3.7.4"
  }
 },
 "nbformat": 4,
 "nbformat_minor": 4
}
